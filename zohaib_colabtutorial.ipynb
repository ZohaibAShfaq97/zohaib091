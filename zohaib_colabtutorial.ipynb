{
  "nbformat": 4,
  "nbformat_minor": 0,
  "metadata": {
    "colab": {
      "provenance": [],
      "authorship_tag": "ABX9TyPzJsjy5YBrdkSQB3JJ3MwK",
      "include_colab_link": true
    },
    "kernelspec": {
      "name": "python3",
      "display_name": "Python 3"
    },
    "language_info": {
      "name": "python"
    }
  },
  "cells": [
    {
      "cell_type": "markdown",
      "metadata": {
        "id": "view-in-github",
        "colab_type": "text"
      },
      "source": [
        "<a href=\"https://colab.research.google.com/github/ZohaibAShfaq97/zohaib091/blob/main/zohaib_colabtutorial.ipynb\" target=\"_parent\"><img src=\"https://colab.research.google.com/assets/colab-badge.svg\" alt=\"Open In Colab\"/></a>"
      ]
    },
    {
      "cell_type": "code",
      "execution_count": null,
      "metadata": {
        "id": "5t29PePD-yNj",
        "colab": {
          "base_uri": "https://localhost:8080/",
          "height": 472
        },
        "outputId": "d1f9c7ff-62fd-4b78-d2b0-0ba5a8ec96c9"
      },
      "outputs": [
        {
          "output_type": "display_data",
          "data": {
            "text/plain": [
              "<Figure size 640x480 with 1 Axes>"
            ],
            "image/png": "[encoded data removed]"
          },
          "metadata": {}
        }
      ],
      "source": [
        "import matplotlib.pyplot as plt\n",
        "\n",
        "# Data for the graph\n",
        "x = [1, 2, 3, 4, 5]  # X-axis values\n",
        "y = [2, 4, 6, 8, 10]  # Y-axis values\n",
        "\n",
        "# Create the plot\n",
        "plt.plot(x, y, marker='o', linestyle='-', color='b', label=\"Line\")\n",
        "\n",
        "# Add labels and title\n",
        "plt.xlabel('X-axis')\n",
        "plt.ylabel('Y-axis')\n",
        "plt.title('Simple Line Graph')\n",
        "\n",
        "# Display legend\n",
        "plt.legend()\n",
        "\n",
        "# Show the plot\n",
        "plt.show()\n"
      ]
    },
    {
      "cell_type": "code",
      "source": [
        "import numpy as np"
      ],
      "metadata": {
        "id": "0svbDtWUi8Ew"
      },
      "execution_count": null,
      "outputs": []
    },
    {
      "cell_type": "code",
      "source": [
        "x=np.array([1,2,3,4,])\n",
        "print(x)\n",
        "print(type(x))"
      ],
      "metadata": {
        "colab": {
          "base_uri": "https://localhost:8080/"
        },
        "id": "Vomv3NqzjBH0",
        "outputId": "b739c80b-299a-4f0b-b3e2-741e83e39c42"
      },
      "execution_count": null,
      "outputs": [
        {
          "output_type": "stream",
          "name": "stdout",
          "text": [
            "[1 2 3 4]\n",
            "<class 'numpy.ndarray'>\n"
          ]
        }
      ]
    },
    {
      "cell_type": "code",
      "source": [
        "mylist=[1,2,3,4]\n",
        "print(mylist)\n",
        "print(type(mylist))"
      ],
      "metadata": {
        "colab": {
          "base_uri": "https://localhost:8080/"
        },
        "id": "v5jJ01ghjSsA",
        "outputId": "6c23fd67-5623-495c-e252-051ee930f90a"
      },
      "execution_count": null,
      "outputs": [
        {
          "output_type": "stream",
          "name": "stdout",
          "text": [
            "[1, 2, 3, 4]\n",
            "<class 'list'>\n"
          ]
        }
      ]
    },
    {
      "cell_type": "code",
      "source": [
        "%timeit np.arange(1,9)**4"
      ],
      "metadata": {
        "colab": {
          "base_uri": "https://localhost:8080/"
        },
        "id": "nnSBKFuykNO-",
        "outputId": "e3e2d51d-c28a-449d-bad4-a394bbee8d19"
      },
      "execution_count": null,
      "outputs": [
        {
          "output_type": "stream",
          "name": "stdout",
          "text": [
            "2.38 µs ± 174 ns per loop (mean ± std. dev. of 7 runs, 100000 loops each)\n"
          ]
        }
      ]
    },
    {
      "cell_type": "code",
      "source": [
        "import numpy as np\n",
        "\n",
        "# Create a 1D NumPy array\n",
        "arr_1d = np.array([1, 2, 3, 4, 5])\n",
        "\n",
        "# Calculate the sum of the array elements\n",
        "sum_1d = np.sum(arr_1d)\n",
        "\n",
        "# Output the result\n",
        "print(f\"1D Array: {arr_1d}\")\n",
        "print(f\"Sum of elements in 1D array: {sum_1d}\")\n"
      ],
      "metadata": {
        "colab": {
          "base_uri": "https://localhost:8080/"
        },
        "id": "2VsVxWv0kgQx",
        "outputId": "0075f878-7efb-4188-ab4b-019ff0d1ca82"
      },
      "execution_count": null,
      "outputs": [
        {
          "output_type": "stream",
          "name": "stdout",
          "text": [
            "1D Array: [1 2 3 4 5]\n",
            "Sum of elements in 1D array: 15\n"
          ]
        }
      ]
    },
    {
      "cell_type": "code",
      "source": [
        "import numpy as np\n",
        "\n",
        "# Create two 2D NumPy arrays (matrices)\n",
        "matrix_1 = np.array([[1, 2], [3, 4]])\n",
        "matrix_2 = np.array([[5, 6], [7, 8]])\n",
        "\n",
        "# Perform matrix multiplication\n",
        "result = np.dot(matrix_1, matrix_2)\n",
        "\n",
        "# Output the result\n",
        "print(f\"Matrix 1:\\n{matrix_1}\")\n",
        "print(f\"Matrix 2:\\n{matrix_2}\")\n",
        "print(f\"Matrix Multiplication Result:\\n{result}\")\n"
      ],
      "metadata": {
        "colab": {
          "base_uri": "https://localhost:8080/"
        },
        "id": "6_4PBmETskp_",
        "outputId": "5fb8bb6b-ac45-4197-801d-b5b9d256aaeb"
      },
      "execution_count": null,
      "outputs": [
        {
          "output_type": "stream",
          "name": "stdout",
          "text": [
            "Matrix 1:\n",
            "[[1 2]\n",
            " [3 4]]\n",
            "Matrix 2:\n",
            "[[5 6]\n",
            " [7 8]]\n",
            "Matrix Multiplication Result:\n",
            "[[19 22]\n",
            " [43 50]]\n"
          ]
        }
      ]
    },
    {
      "cell_type": "code",
      "source": [
        "temperatures = np.array([50, 49, 44, 42, 40, 48, 33])\n",
        "\n",
        "average_temp = np.mean(temperatures)\n",
        "\n",
        "print(\"Temperatures over the week:\", temperatures)\n",
        "print(f\"average temperature: {average_temp:.2f}\")"
      ],
      "metadata": {
        "colab": {
          "base_uri": "https://localhost:8080/"
        },
        "id": "tc_bvoWJtkOK",
        "outputId": "593bc44d-5455-41c0-c49f-b4ae211f6109"
      },
      "execution_count": null,
      "outputs": [
        {
          "output_type": "stream",
          "name": "stdout",
          "text": [
            "Temperatures over the week: [50 49 44 42 40 48 33]\n",
            "average temperature: 43.71\n"
          ]
        }
      ]
    },
    {
      "cell_type": "code",
      "source": [
        "daily_sales = np.array([150, 200, 170, 220, 180, 190, 210])\n",
        "\n",
        "average_sales = np.mean(daily_sales)\n",
        "print(f\"Average daily sales: PKR {average_sales:.2f}\")\n",
        "\n",
        "total_sales = np.sum(daily_sales)\n",
        "print(f\"Total sales for the week: PKR {total_sales:.2f}\")\n",
        "\n",
        "max_sales = np.max(daily_sales)\n",
        "min_sales = np.min(daily_sales)\n",
        "print(f\"Maximum sales in a day: PKR {max_sales:.2f}\")\n",
        "print(f\"Minimum sales in a day: PKR {min_sales:.2f}\")\n",
        "\n",
        "std_sales = np.std(daily_sales)\n",
        "print(f\"Standard deviation of sales: PKR {std_sales:.2f}\")\n",
        "\n",
        "variance_sales = np.var(daily_sales)\n",
        "print(f\"Variance of sales: PKR {variance_sales:.2f}\")\n",
        "\n",
        "cumulative_sales = np.cumsum(daily_sales)\n",
        "print(\"Cumulative sales for the week:\", cumulative_sales)"
      ],
      "metadata": {
        "colab": {
          "base_uri": "https://localhost:8080/"
        },
        "id": "Q9vEhjJsuIyS",
        "outputId": "a17e44ce-c3ae-4727-d8a5-a301ef6d2c8d"
      },
      "execution_count": null,
      "outputs": [
        {
          "output_type": "stream",
          "name": "stdout",
          "text": [
            "Average daily sales: PKR 188.57\n",
            "Total sales for the week: PKR 1320.00\n",
            "Maximum sales in a day: PKR 220.00\n",
            "Minimum sales in a day: PKR 150.00\n",
            "Standard deviation of sales: PKR 22.31\n",
            "Variance of sales: PKR 497.96\n",
            "Cumulative sales for the week: [ 150  350  520  740  920 1110 1320]\n"
          ]
        }
      ]
    },
    {
      "cell_type": "code",
      "source": [
        "inventory = np.array([\n",
        "    [50.0, 100],  # Product 1: Price 50 PKR, Quantity 100\n",
        "    [30.0, 150],  # Product 2: Price 30 PKR, Quantity 150\n",
        "    [40.0, 120],  # Product 3: Price 40 PKR, Quantity 120\n",
        "    [80.0, 80],   # Product 4: Price 80 PKR, Quantity 80\n",
        "    [45.0, 200]   # Product 5: Price 45 PKR, Quantity 200\n",
        "])\n",
        "\n",
        "\n",
        "total_quantity = np.sum(inventory[:, 1])\n",
        "print(f\"Total quantity of products in stock: {total_quantity}\")\n",
        "\n",
        "\n",
        "total_value = np.sum(inventory[:, 0] * inventory[:, 1])\n",
        "print(f\"Total value of inventory (in PKR): {total_value:.2f}\")\n",
        "\n",
        "\n",
        "average_price = np.mean(inventory[:, 0])\n",
        "print(f\"Average price of products (in PKR): {average_price:.2f}\")\n",
        "\n",
        "\n",
        "print(\"\\nGrocery Store Inventory:\")\n",
        "for i, item in enumerate(inventory, start=1):\n",
        "    print(f\"Product {i}: Price: PKR {item[0]:.2f}, Quantity: {item[1]}\")"
      ],
      "metadata": {
        "id": "_irbmZ-JuiAz",
        "outputId": "6415699b-4816-4fea-92ab-baaa2e4158c6",
        "colab": {
          "base_uri": "https://localhost:8080/"
        }
      },
      "execution_count": null,
      "outputs": [
        {
          "output_type": "stream",
          "name": "stdout",
          "text": [
            "Total quantity of products in stock: 650.0\n",
            "Total value of inventory (in PKR): 29700.00\n",
            "Average price of products (in PKR): 49.00\n",
            "\n",
            "Grocery Store Inventory:\n",
            "Product 1: Price: PKR 50.00, Quantity: 100.0\n",
            "Product 2: Price: PKR 30.00, Quantity: 150.0\n",
            "Product 3: Price: PKR 40.00, Quantity: 120.0\n",
            "Product 4: Price: PKR 80.00, Quantity: 80.0\n",
            "Product 5: Price: PKR 45.00, Quantity: 200.0\n"
          ]
        }
      ]
    }
  ]
}